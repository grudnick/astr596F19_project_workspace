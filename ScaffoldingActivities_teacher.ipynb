{
 "cells": [
  {
   "cell_type": "markdown",
   "metadata": {},
   "source": [
    "<h1>Importing Modules</h1>\n",
    "<p>When writing code, you will always have to import the libraries of code that you want to use. For example, if you want an easy way to get the value pi, one way to do this would be to import scipy's constants library. There are a few ways to do this:</p>"
   ]
  },
  {
   "cell_type": "code",
   "execution_count": 2,
   "metadata": {},
   "outputs": [
    {
     "name": "stdout",
     "output_type": "stream",
     "text": [
      "3.141592653589793\n",
      "3.141592653589793\n",
      "3.141592653589793\n",
      "3.141592653589793\n"
     ]
    }
   ],
   "source": [
    "#This will import the *entire* scipy library. This can be inefficient because it will load in all of scipy's available \n",
    "#functions and modules.\n",
    "import scipy\n",
    "print(scipy.pi)\n",
    "\n",
    "#This will only import the constants library in scipy, which has a ton of available constants\n",
    "#See: https://docs.scipy.org/doc/scipy/reference/constants.html\n",
    "import scipy.constants\n",
    "print(scipy.pi)\n",
    "\n",
    "#This again imports the entire scipy library, but allows us to access it using 'spy' instead of having to write\n",
    "# scipy everytime\n",
    "import scipy as spy\n",
    "print(spy.pi)\n",
    "\n",
    "#This allows us to succinctly import the exact thing we want from scipy; in this case, pi\n",
    "from scipy.constants import pi\n",
    "print(pi)\n"
   ]
  },
  {
   "cell_type": "markdown",
   "metadata": {},
   "source": [
    "Now, I want you to practice importing some libraries. I want you to do the following:\n",
    "<ol> \n",
    "    <li>Import the library numpy so that you can use the abbreviation np to access it</li> \n",
    "    <li>Import the entire astropy library</li>\n",
    "    <li>Import the pylot module of the matplotlib library with the abbreviation plt</li>\n",
    "</ol>\n"
   ]
  },
  {
   "cell_type": "code",
   "execution_count": 10,
   "metadata": {},
   "outputs": [],
   "source": [
    "#Write code here:\n",
    "\n",
    "import numpy as np\n",
    "import astropy\n",
    "import matplotlib.pyplot as plt"
   ]
  },
  {
   "cell_type": "markdown",
   "metadata": {},
   "source": [
    "The libraries you just imported are very important, and will be used often. You can find their documentation at the following sites:\n",
    "<ul>\n",
    "    <li>numpy: https://numpy.org/doc/1.18/reference/ </li>\n",
    "    <li>astropy: https://docs.astropy.org/en/stable/ </li>\n",
    "    <li>Matplotlib: https://matplotlib.org/tutorials/index.html#introductory </li>\n",
    "    <li>Pyplot (part of matplotlib): https://matplotlib.org/tutorials/introductory/pyplot.html </li>\n",
    "</ul>"
   ]
  },
  {
   "cell_type": "markdown",
   "metadata": {},
   "source": [
    "<h1>Functions</h1>\n",
    "<p>Now, we will go over the basic use of functions in python. Say we have a simple function, we'll call it summation, which takes in two variables and adds them. This function would look something like this:</p>"
   ]
  },
  {
   "cell_type": "code",
   "execution_count": 5,
   "metadata": {},
   "outputs": [],
   "source": [
    "def summation(a, b):\n",
    "    return (a + b)"
   ]
  },
  {
   "cell_type": "markdown",
   "metadata": {},
   "source": [
    "Now, you might be wondering what 'return' here means. Well, it does exactly what its name says- it <i>returns</i> the following value to wherever the function was used. Lets see what this looks like. Say I have a varible x= 2, and a variable y = 5, and I want to use my special function to add them and save their sum to the variable my_sum:"
   ]
  },
  {
   "cell_type": "code",
   "execution_count": 6,
   "metadata": {},
   "outputs": [
    {
     "name": "stdout",
     "output_type": "stream",
     "text": [
      "7\n"
     ]
    }
   ],
   "source": [
    "x = 2\n",
    "y = 5\n",
    "my_sum = summation(x, y)\n",
    "print(my_sum)"
   ]
  },
  {
   "cell_type": "markdown",
   "metadata": {},
   "source": [
    "<p>There we go! So, what's happening here? Well, the return statement in our function definition of summation, <i>returned</i> the sum of x and y into the varible my_sum. In other words, and as you can see, we set the new variable my_sum equal to the value that our function summation returned. </p>\n",
    "\n",
    "<p>To use more technical lingo, when we defined the varaible my_sum, we <i>called</i> the function summation, which <i>returned</i> the apporpriate value and saved it as the variable my_sum. <u>Note that the names of the variables in the function definition (i.e a,b) do <b>not</b> have to match the names of the variables in the function call (i.e x,y). It is only the <b>order</b> that matters (here, we are setting a=x and b=y).</u></p>\n",
    "\n",
    "<p>Now, I want you to write a simple function that returns the volume of a sphere of radius R. You should use the value of pi in the numpy library you previously imported (you import numpy as np, so you can simply use np.pi). After you write your function, I want you to find the volumes of spheres with radii: 1, 5, 10 and print them out (check your answer by hand!)</p>"
   ]
  },
  {
   "cell_type": "code",
   "execution_count": 13,
   "metadata": {},
   "outputs": [
    {
     "name": "stdout",
     "output_type": "stream",
     "text": [
      "4.1887902047863905\n",
      "523.5987755982989\n",
      "4188.790204786391\n"
     ]
    }
   ],
   "source": [
    "#Write code here\n",
    "\n",
    "def sphere_volume(r):\n",
    "    return (4*np.pi/3)*(r**3)\n",
    "\n",
    "R= 1\n",
    "my_volume = sphere_volume(R)\n",
    "print(my_volume)\n",
    "\n",
    "R= 5\n",
    "my_volume = sphere_volume(R)\n",
    "print(my_volume)\n",
    "\n",
    "R = 10\n",
    "my_volume = sphere_volume(R)\n",
    "print(my_volume)"
   ]
  },
  {
   "cell_type": "markdown",
   "metadata": {},
   "source": [
    "<h1> Args and kwargs </h1>\n",
    "<p>Thus far, we have handled the simplest case of functions. However, lets consider something a bit more complicated. Lets say I want to write a function which returns the sum of aany number of varibles, such that it will work for 2, 5, or even a million varibles. How would I do this? Well, this is where the idea of args comes into play.</p1>\n",
    "<h3>Args</h3>\n",
    "<p>Python allows us to use an asterisk in front of the input parameter in a function definition to indicate that we wish for that parameter to be of varible length. For example, if I wanted to write the sum function we just described:</p>"
   ]
  },
  {
   "cell_type": "code",
   "execution_count": 15,
   "metadata": {},
   "outputs": [
    {
     "name": "stdout",
     "output_type": "stream",
     "text": [
      "10\n"
     ]
    }
   ],
   "source": [
    "def sum_multiple(*numbers):\n",
    "    sum_value = 0\n",
    "    for num in numbers:\n",
    "        sum_value += num\n",
    "    return sum_value\n",
    "\n",
    "a = 2\n",
    "b = 5\n",
    "c=  3\n",
    "my_sum = sum_multiple(a, b, c)\n",
    "print(my_sum)"
   ]
  },
  {
   "cell_type": "markdown",
   "metadata": {},
   "source": [
    "<p>So, what just happened? Well, when I wrote the function sum_multiple, I put an asterisk in front of the input parameter numbers, which will cause the inputted values to be inputted as a list of any size. This allowed me to iterate through all the values I put into sum_multiple to add them all up.</p>\n",
    "<h3>Kwargs</h3>\n",
    "<b>Greg, I think this might be getting into the weeds a little too much. Knowledge of kwargs vs args is really only important for writing very general use functions (classes and things too), and I think its a confusing topic tio throw in this early. I think maybe we should instead find a useful example function in numpy or so, and explain to the students how to read the documentation to know how to use the function. This way, they learn what kwargs and args are withought getting confused by their abstractness</b>"
   ]
  },
  {
   "cell_type": "markdown",
   "metadata": {},
   "source": [
    "<h1>Array indexing and slicing</h1>\n",
    "<p>One of the most important skills in coding is the ability to index and slice arrays. Generally, indexing refers to accessing values of arrays at a certain position, and slicing refers to taking 'slices' of an array (i.e values from a range of positions). We'll go over basic indexing first.</p>\n",
    "<h3>Indexing</h3>\n",
    "<p>Firstly, <b>indexing in python starts at 0</b>. That is, the first value in an array (or list, they work the same), has index 0, the second value has index 1, and so on and so forth. You can also index an array in reverse with negative numbers. For example, an index of -1 accesses the last value of a list (very useful for when you don't yet know the length of a list!), -2 accesses the 2nd to last value, and so on and so forth. You can change the value of a certain index of a list by accessing the element and simply setting it equal to a different value. Lets do some basic practice.</p>\n",
    "<p>I want you to:\n",
    "    <ol>\n",
    "        <li>Print the 1st and 3rd element in the list</li>\n",
    "        <li>Print the last item in the list two different ways</li>\n",
    "        <li>Set the 5th element in the list to 0 (print its value before and after)</li>\n",
    "    </ol>\n",
    "<b>Remember:</b> The first element has an index of 0, so if, for example, you want the 3rd element in the list, this corresponds to the 2nd index.\n",
    "</p>\n"
   ]
  },
  {
   "cell_type": "code",
   "execution_count": 18,
   "metadata": {},
   "outputs": [
    {
     "name": "stdout",
     "output_type": "stream",
     "text": [
      "4 7\n",
      "15 15\n",
      "5\n",
      "0\n"
     ]
    }
   ],
   "source": [
    "my_list = [4, 2, 7, 1, 5, 1, 9, 6, 8, 3, 13, 7, 4, 15] #14 values\n",
    "\n",
    "#WRITE CODE HERE\n",
    "print( my_list[0],my_list[2])\n",
    "print( my_list[-1], my_list[13])\n",
    "print( my_list[4] )\n",
    "my_list[4] = 0\n",
    "print( my_list[4] )"
   ]
  },
  {
   "cell_type": "markdown",
   "metadata": {},
   "source": [
    "<h3>Slicing</h3>\n",
    "<p> Slicing refers to handling sub-lists in the overall list. For example, if you wanted to access the 3rd, 4th, and 5th elements of a list, you would slice the overall list. The syntax of array slicing is as follows. If I have a list, my_list, slicing looks like:</p>\n",
    "<p>my_list[start:stop:step]</p>\n",
    "<p>Where <b>start</b> is the index to start the slice at, <b>stop</b> is the index to stop at but <u>not include</u>, and <b>step</b> allows us to change the spacing between the values we pull, where the default value is 1 (which takes every element in the slice range.</p> \n",
    "<p>Let's see this in action. First, we'll make a list of numbers:</p>\n"
   ]
  },
  {
   "cell_type": "code",
   "execution_count": 21,
   "metadata": {},
   "outputs": [],
   "source": [
    "nums = [ 5, 10, 15, 20, 25, 30, 35, 40, 45, 50, 55, 60]"
   ]
  },
  {
   "cell_type": "markdown",
   "metadata": {},
   "source": [
    "<p>Let's say that I want to a new list which has the 3rd, 4th, 5th, and 6th elements of nums. Rather than tediously indexing each element individually, we can use slicing:</p>"
   ]
  },
  {
   "cell_type": "code",
   "execution_count": 24,
   "metadata": {},
   "outputs": [
    {
     "name": "stdout",
     "output_type": "stream",
     "text": [
      "[15, 20, 25, 30]\n"
     ]
    }
   ],
   "source": [
    "nums_subset1 = nums[2:6:1] #Start: Index = 2, Stop: Index = 6, Step: 1\n",
    "print(nums_subset)"
   ]
  },
  {
   "cell_type": "markdown",
   "metadata": {},
   "source": [
    "Now, let's say that I want to make a list of every 3rd element in nums, start with the first element:"
   ]
  },
  {
   "cell_type": "code",
   "execution_count": 26,
   "metadata": {},
   "outputs": [
    {
     "name": "stdout",
     "output_type": "stream",
     "text": [
      "[5, 20, 35, 50]\n"
     ]
    }
   ],
   "source": [
    "nums_subset2 = nums[0:-1:3] #Start: Index = 0, Stop: Index = -1 (last element), Step: 3\n",
    "print(nums_subset2)"
   ]
  },
  {
   "cell_type": "markdown",
   "metadata": {},
   "source": [
    "Now, python allows some shorthands which make this even easier. As previously stated, <b>step</b> defaults to 1, and we also note that <b>start</b> and <b>stop</b> will cover the entire range of the list by default. So, we can rewrite the above examples:"
   ]
  },
  {
   "cell_type": "code",
   "execution_count": 38,
   "metadata": {},
   "outputs": [
    {
     "name": "stdout",
     "output_type": "stream",
     "text": [
      "[15, 20, 25, 30]\n",
      "[5, 20, 35, 50]\n"
     ]
    }
   ],
   "source": [
    "nums_subset1 = nums[2:6] \n",
    "nums_subset2 = nums[::3] \n",
    "print(nums_subset1)\n",
    "print(nums_subset2)"
   ]
  },
  {
   "cell_type": "markdown",
   "metadata": {},
   "source": [
    "It's your turn now! Given the list below, I want you to:\n",
    "<ol>\n",
    "    <li>Slice and print the last 3 items of the list (<i>Hint</i>: recall that stop defaults to including the entire list, so you only need to specify a value of start)</li>\n",
    "        <li>Slice and print the 2nd to 6th element</li>\n",
    "        <li>Change the values of the 2nd to 6th slice in the original list to 0 and print the entire list to confirm your result.</li>\n",
    "    </ol>"
   ]
  },
  {
   "cell_type": "code",
   "execution_count": 44,
   "metadata": {},
   "outputs": [
    {
     "name": "stdout",
     "output_type": "stream",
     "text": [
      "[70, 80, 90]\n",
      "[20, 30, 40, 50, 60]\n",
      "[10, 0, 0, 0, 0, 0, 70, 80, 90]\n"
     ]
    }
   ],
   "source": [
    "nums_test = [10, 20, 30, 40, 50, 60, 70, 80, 90]\n",
    "\n",
    "#WRITE CODE HERE\n",
    "print( nums_test[-3:] )\n",
    "\n",
    "print( nums_test[1:6] )\n",
    "\n",
    "nums_test[1:6] = [0,0,0,0,0]\n",
    "print( nums_test )"
   ]
  },
  {
   "cell_type": "code",
   "execution_count": null,
   "metadata": {},
   "outputs": [],
   "source": []
  }
 ],
 "metadata": {
  "kernelspec": {
   "display_name": "Python 3",
   "language": "python",
   "name": "python3"
  },
  "language_info": {
   "codemirror_mode": {
    "name": "ipython",
    "version": 3
   },
   "file_extension": ".py",
   "mimetype": "text/x-python",
   "name": "python",
   "nbconvert_exporter": "python",
   "pygments_lexer": "ipython3",
   "version": "3.7.4"
  }
 },
 "nbformat": 4,
 "nbformat_minor": 2
}
