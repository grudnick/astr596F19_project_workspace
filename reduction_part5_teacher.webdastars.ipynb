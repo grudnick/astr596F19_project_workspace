{
 "cells": [
  {
   "cell_type": "markdown",
   "metadata": {},
   "source": [
    "<h2>OBSERVATIONAL ASTROPHYSICS – FALL 2019 Reduction Exercise: Part 5</h2>\n",
    "\n",
    "The goal of this part is to produce a color-magnitude diagram for your cluster.  Do do this we need to detect stars, measure their flux, compare it to a known magnitude for that star, derive the magnitude zeropoint for that band, and convert all of your fluxes to magnitudes.  This will be broked into the following steps:\n",
    "\n",
    "1. read in image with a valid astrometric header (the output image from the end of part 4);\n",
    "2. Locate stars in this image and measure their flux;\n",
    "3. Read in an ASCII file with a list of measured magnitudes for stars in that cluster;\n",
    "4. Cross-match the two lists to find which object corresponds to which;\n",
    "5. Compare the fluxes and magnitudes to determine the magnitude zeropoint of your image, i.e. what magnitude is a single count;\n",
    "6. Use this to create magnitudes in each band\n",
    "7. Produce a color-magnitude diagrame\n",
    "\n",
    "The first cell below is a routine designed to read in one image"
   ]
  },
  {
   "cell_type": "code",
   "execution_count": 46,
   "metadata": {},
   "outputs": [],
   "source": [
    "import os, glob, time\n",
    "import numpy as np\n",
    "from astropy.io import fits\n",
    "from matplotlib import pyplot as plt\n",
    "\n",
    "redpath = \"/Users/grudnick/Work/Teaching/Classes/Astro_596/Fall_2019/Observing_project/Data/Reduced/20191104/\""
   ]
  },
  {
   "cell_type": "markdown",
   "metadata": {},
   "source": [
    "<h3> Find the stars in your image</h3>"
   ]
  },
  {
   "cell_type": "code",
   "execution_count": 31,
   "metadata": {},
   "outputs": [],
   "source": [
    "#filename should be the name of the file (without path) that has the correct \n",
    "#WCS header, e.g. one output by astrometry.net. \n",
    "def read_one_image(filename, redpath):\n",
    "    from astropy.table import Table\n",
    "    from astropy.wcs import WCS\n",
    "\n",
    "    # This joins the path and the filename\n",
    "    imgfile = os.path.join('{}'.format(redpath), filename)\n",
    "\n",
    "    print('Reading {}'.format(imgfile))\n",
    "    #this is the image and full header of the file.  \n",
    "    img, hdr = fits.getdata(imgfile, header=True)\n",
    "    #this is only the section of the file that contains the WCS, which is the mapping between pixel \n",
    "    #and sky coordinate (RA,DEC)\n",
    "    imgwcs = WCS(hdr)#, naxis=2)\n",
    "\n",
    "    return img, hdr, imgwcs, imgfile"
   ]
  },
  {
   "cell_type": "code",
   "execution_count": 39,
   "metadata": {},
   "outputs": [
    {
     "name": "stdout",
     "output_type": "stream",
     "text": [
      "Reading /Users/grudnick/Work/Teaching/Classes/Astro_596/Fall_2019/Observing_project/Data/Reduced/20191104/wngc7276_V_comb.fits\n"
     ]
    }
   ],
   "source": [
    "img_ngc7296_V, hdr, imgwcs, imgfile_ngc7296_V = read_one_image('wngc7276_V_comb.fits',redpath)"
   ]
  },
  {
   "cell_type": "markdown",
   "metadata": {},
   "source": [
    "This is the same routine that we used in part 4.  It measures the background."
   ]
  },
  {
   "cell_type": "code",
   "execution_count": 40,
   "metadata": {},
   "outputs": [],
   "source": [
    "def get_sky_background(img, verbose=True):\n",
    "    from astropy.stats import SigmaClip\n",
    "    from photutils import Background2D, MedianBackground\n",
    "    sigma_clip = SigmaClip(sigma=4.)\n",
    "    bkg = Background2D(img, (100, 100), filter_size=(10, 10), sigma_clip=sigma_clip, \n",
    "                       bkg_estimator=MedianBackground())\n",
    "    if verbose:\n",
    "        print('Sky background median = {:.3f}, rms = {:.3f} electrons.'.format(bkg.background_median, bkg.background_rms_median))\n",
    "    return bkg"
   ]
  },
  {
   "cell_type": "markdown",
   "metadata": {},
   "source": [
    "This gets the background and subtracts it from the image to get a background subtracted image.  As in part 4 we check that the background looks correct."
   ]
  },
  {
   "cell_type": "code",
   "execution_count": 41,
   "metadata": {},
   "outputs": [
    {
     "name": "stdout",
     "output_type": "stream",
     "text": [
      "Sky background median = 2.190, rms = 0.061 electrons.\n"
     ]
    }
   ],
   "source": [
    "#***********\n",
    "bkg = get_sky_background(img_ngc7296_V, verbose=True)\n",
    "#***********\n",
    "img_ngc7296_V_nosky = img_ngc7296_V - bkg.background"
   ]
  },
  {
   "cell_type": "code",
   "execution_count": 47,
   "metadata": {},
   "outputs": [],
   "source": [
    "def qa_background(img,img_nosky):\n",
    "    med, sig = bkg.background_median, bkg.background_rms_median\n",
    "    vrange = (-3*sig, med+5*sig)\n",
    "    fig, ax = plt.subplots(figsize=(7, 5))\n",
    "    _ = ax.hist(img.flatten(), bins=100, range=vrange, label='Image w/ Background')\n",
    "    #_ = ax.hist(bkg.background.flatten(), bins=50, range=(-sig, med+5*sig), label='Background')\n",
    "    _ = ax.hist(img_nosky.flatten(), bins=100, range=vrange, label='Image w/o Background')\n",
    "    ax.axvline(x=bkg.background_median, lw=2, ls='-', color='k')\n",
    "    ax.set_xlabel('Intensity (e-/s)')\n",
    "    ax.set_ylabel('Number')\n",
    "    ax.legend(fontsize=12, frameon=False)"
   ]
  },
  {
   "cell_type": "code",
   "execution_count": 48,
   "metadata": {},
   "outputs": [
    {
     "data": {
      "image/png": "[encoded data removed]",
      "text/plain": [
       "<Figure size 504x360 with 1 Axes>"
      ]
     },
     "metadata": {
      "needs_background": "light"
     },
     "output_type": "display_data"
    }
   ],
   "source": [
    "#***********\n",
    "qa_background(img_ngc7296_V, img_ngc7296_V_nosky)"
   ]
  },
  {
   "cell_type": "markdown",
   "metadata": {},
   "source": [
    "This routine detects stars in the image.  It requires a zero background image.  There are many ways to measure object flux.  We are using the DAOStarfinder algorithm described (https://photutils.readthedocs.io/en/stable/api/photutils.detection.DAOStarFinder.html)\n",
    "\n",
    "This code requires as input the FWHM of stars in the image in pixel units.  You can determine this using the *imexam* task.\n",
    "\n",
    "You can use this by going to your image directory and typing *ipython* at the command line.  Once the interactive python environment loads you type the following set of commands:\n",
    "\n",
    "*import imexam*\n",
    "*viewer=imexam.connect()*\n",
    "*viewer.load_fits('<filename>')*\n",
    "*viewer.scale()*\n",
    "    \n",
    "You can then hit the \"a\" key and \"r\" key on bright isolated and unsaturated stars to find the FWHM.\n",
    "\n",
    "If imexam doesn't work on your computer then just use the mean FWHM from all the individual observations for that band/target\n",
    "\n",
    "This will need to be run once for each band"
   ]
  },
  {
   "cell_type": "code",
   "execution_count": 49,
   "metadata": {},
   "outputs": [],
   "source": [
    "#this code outputs a file with all the detected stars.\n",
    "#fwhm is for stars in the image in units of pixels\n",
    "#nsigma is the detection threshold for each star\n",
    "def find_stars(image, imgfile, fwhm=3.0, nsigma=3, sigma=None, \n",
    "               verbose=True, overwrite=False):\n",
    "    from astropy.table import Table\n",
    "    \n",
    "    #this makes a file \n",
    "    starsfile = os.path.join(redpath, 'stars-{}'.format(os.path.basename(imgfile)))\n",
    "    if not os.path.isfile(starsfile) or overwrite:\n",
    "        from photutils import DAOStarFinder\n",
    "        if sigma is None:\n",
    "            sigma = np.std(image)\n",
    "\n",
    "        daofind = DAOStarFinder(fwhm=fwhm, threshold=nsigma * sigma)\n",
    "        srcs = daofind(image)\n",
    "        # reverse-sort by flux \n",
    "        srcs.sort('flux')\n",
    "        srcs.reverse()\n",
    "        if verbose:\n",
    "            print('Found {} sources'.format(len(srcs)))\n",
    "\n",
    "        print('Writing {} stars to {}'.format(len(srcs), starsfile))\n",
    "        srcs.write(starsfile, overwrite=True)\n",
    "    else:\n",
    "        srcs = Table.read(starsfile)\n",
    "        print('Read {} stars from {}'.format(len(srcs), starsfile))\n",
    "    return srcs"
   ]
  },
  {
   "cell_type": "code",
   "execution_count": 50,
   "metadata": {},
   "outputs": [
    {
     "name": "stdout",
     "output_type": "stream",
     "text": [
      "Read 2290 stars from /Users/grudnick/Work/Teaching/Classes/Astro_596/Fall_2019/Observing_project/Data/Reduced/20191104/stars-wngc7276_V_comb.fits\n"
     ]
    },
    {
     "data": {
      "text/html": [
       "<i>Table length=2290</i>\n",
       "<table id=\"table140609218552976\" class=\"table-striped table-bordered table-condensed\">\n",
       "<thead><tr><th>id</th><th>xcentroid</th><th>ycentroid</th><th>sharpness</th><th>roundness1</th><th>roundness2</th><th>npix</th><th>sky</th><th>peak</th><th>flux</th><th>mag</th></tr></thead>\n",
       "<thead><tr><th>int64</th><th>float64</th><th>float64</th><th>float64</th><th>float64</th><th>float64</th><th>int64</th><th>float64</th><th>float64</th><th>float64</th><th>float64</th></tr></thead>\n",
       "<tr><td>1023</td><td>960.5819025640336</td><td>936.7008421879661</td><td>0.38795082296512595</td><td>0.20332742820068261</td><td>0.24528511321087365</td><td>25</td><td>0.0</td><td>1158.4108832906288</td><td>2342.5907288546446</td><td>-8.424241050423413</td></tr>\n",
       "<tr><td>2</td><td>1325.5270196460192</td><td>1.9651091570790755</td><td>0.2445608640601416</td><td>0.2599328480956012</td><td>-0.1842068119177257</td><td>25</td><td>0.0</td><td>1155.8588439287562</td><td>2288.792314510621</td><td>-8.399015966227514</td></tr>\n",
       "<tr><td>1820</td><td>133.4175527913585</td><td>1643.1952615693606</td><td>0.4265310171349403</td><td>0.23262266406215712</td><td>-0.24733995857211488</td><td>25</td><td>0.0</td><td>1161.9728964699716</td><td>2092.805260735559</td><td>-8.301822045855406</td></tr>\n",
       "<tr><td>1549</td><td>1561.7471580894855</td><td>1408.2291103902173</td><td>0.3900824348408227</td><td>-0.043128788705076415</td><td>-0.15886428136465847</td><td>25</td><td>0.0</td><td>1156.9120671297148</td><td>2046.347959735462</td><td>-8.277448707047865</td></tr>\n",
       "<tr><td>1635</td><td>1837.6372647805883</td><td>1485.0359976685731</td><td>0.42961589698503877</td><td>-0.07783382003132999</td><td>-0.22347806399873146</td><td>25</td><td>0.0</td><td>1072.7402498646145</td><td>2010.7829847792502</td><td>-8.258413003942628</td></tr>\n",
       "<tr><td>1883</td><td>901.0163011075624</td><td>1705.593816794147</td><td>0.3407653976221992</td><td>0.013515025783855683</td><td>-0.25523430312009515</td><td>25</td><td>0.0</td><td>1158.1382559121967</td><td>1805.6872004902425</td><td>-8.141606298959832</td></tr>\n",
       "<tr><td>416</td><td>972.548176663112</td><td>376.76554132245377</td><td>0.3981295107128885</td><td>0.06435465654391541</td><td>-0.10814045179307555</td><td>25</td><td>0.0</td><td>1056.913125749724</td><td>1575.799457101368</td><td>-7.993752366297477</td></tr>\n",
       "<tr><td>1632</td><td>965.9138655865881</td><td>1484.5123170822883</td><td>0.4215239716447243</td><td>0.052114675352738955</td><td>-0.12816724390155565</td><td>25</td><td>0.0</td><td>932.6436816967833</td><td>1513.5702049050974</td><td>-7.9500064248036075</td></tr>\n",
       "<tr><td>1466</td><td>120.89085288898386</td><td>1325.6985526981962</td><td>0.47719422425767594</td><td>0.08684876532469409</td><td>-0.2039629775860987</td><td>25</td><td>0.0</td><td>1111.9912094332503</td><td>1479.3202157508135</td><td>-7.9251554804301785</td></tr>\n",
       "<tr><td>1469</td><td>120.74107682383368</td><td>1325.8337868466115</td><td>0.4340929312563225</td><td>0.16992338159178483</td><td>-0.17683333336264606</td><td>25</td><td>0.0</td><td>1164.7601730541353</td><td>1400.5164564143954</td><td>-7.865720540642585</td></tr>\n",
       "<tr><td>...</td><td>...</td><td>...</td><td>...</td><td>...</td><td>...</td><td>...</td><td>...</td><td>...</td><td>...</td><td>...</td></tr>\n",
       "<tr><td>147</td><td>221.27926430491615</td><td>140.38890681130582</td><td>0.5129836673010187</td><td>-0.5284095565675543</td><td>-0.7333220154847166</td><td>25</td><td>0.0</td><td>0.6876725647153652</td><td>1.009606922179858</td><td>-0.010380798921624359</td></tr>\n",
       "<tr><td>1293</td><td>687.0579539588733</td><td>1166.1611057742277</td><td>0.47383387168573543</td><td>0.21649547645864528</td><td>0.024694214556277162</td><td>25</td><td>0.0</td><td>0.6224537711730975</td><td>1.0094881555654074</td><td>-0.010253069212612003</td></tr>\n",
       "<tr><td>1749</td><td>710.2076397223308</td><td>1574.7985164530771</td><td>0.31235251521044616</td><td>0.7787006851278147</td><td>-0.3090528815694746</td><td>25</td><td>0.0</td><td>3.325742858388422</td><td>1.009405234143565</td><td>-0.010163880956952987</td></tr>\n",
       "<tr><td>853</td><td>1594.8857237992956</td><td>780.5905200280021</td><td>0.6054677489112413</td><td>0.2397930838971072</td><td>-0.45117537973817534</td><td>25</td><td>0.0</td><td>0.6008236096852078</td><td>1.0082525783375027</td><td>-0.008923353183936453</td></tr>\n",
       "<tr><td>1675</td><td>1644.8670784378226</td><td>1515.9028469240313</td><td>0.462757740283268</td><td>0.3695117786132572</td><td>0.003906151710288459</td><td>25</td><td>0.0</td><td>0.4847523551744808</td><td>1.008180102935188</td><td>-0.008845305283788654</td></tr>\n",
       "<tr><td>1734</td><td>1205.77287349402</td><td>1566.2567706024765</td><td>0.45272075315016347</td><td>0.24932998949657345</td><td>0.18009536787267152</td><td>25</td><td>0.0</td><td>0.533641679725732</td><td>1.0078776737217017</td><td>-0.00851956228899596</td></tr>\n",
       "<tr><td>2255</td><td>1636.574572814237</td><td>2015.7755144338414</td><td>0.5026406992181182</td><td>0.2785653668167992</td><td>-0.27971485071275654</td><td>25</td><td>0.0</td><td>0.49043006700120406</td><td>1.0076915955579935</td><td>-0.008319091084253816</td></tr>\n",
       "<tr><td>598</td><td>1688.4893984518246</td><td>554.3914866630662</td><td>0.8651808579264982</td><td>0.4968774615937061</td><td>0.10606880177114585</td><td>25</td><td>0.0</td><td>0.7562284458963906</td><td>1.0050821946970125</td><td>-0.005503948529808222</td></tr>\n",
       "<tr><td>498</td><td>1474.3676418144962</td><td>453.3012071974914</td><td>0.39272017683804084</td><td>0.4402629911062544</td><td>-0.2576295277088335</td><td>25</td><td>0.0</td><td>0.5769357664863679</td><td>1.001816274552496</td><td>-0.001970206362712949</td></tr>\n",
       "<tr><td>892</td><td>587.2920092017025</td><td>815.348018854517</td><td>0.38561528894075475</td><td>0.16588883076289376</td><td>0.1334586070087339</td><td>25</td><td>0.0</td><td>0.5214646487813144</td><td>1.0003557225698212</td><td>-0.0003861521954500211</td></tr>\n",
       "</table>"
      ],
      "text/plain": [
       "<Table length=2290>\n",
       "  id      xcentroid      ...        flux                 mag          \n",
       "int64      float64       ...      float64              float64        \n",
       "----- ------------------ ... ------------------ ----------------------\n",
       " 1023  960.5819025640336 ... 2342.5907288546446     -8.424241050423413\n",
       "    2 1325.5270196460192 ...  2288.792314510621     -8.399015966227514\n",
       " 1820  133.4175527913585 ...  2092.805260735559     -8.301822045855406\n",
       " 1549 1561.7471580894855 ...  2046.347959735462     -8.277448707047865\n",
       " 1635 1837.6372647805883 ... 2010.7829847792502     -8.258413003942628\n",
       " 1883  901.0163011075624 ... 1805.6872004902425     -8.141606298959832\n",
       "  416   972.548176663112 ...  1575.799457101368     -7.993752366297477\n",
       " 1632  965.9138655865881 ... 1513.5702049050974    -7.9500064248036075\n",
       " 1466 120.89085288898386 ... 1479.3202157508135    -7.9251554804301785\n",
       " 1469 120.74107682383368 ... 1400.5164564143954     -7.865720540642585\n",
       "  ...                ... ...                ...                    ...\n",
       "  147 221.27926430491615 ...  1.009606922179858  -0.010380798921624359\n",
       " 1293  687.0579539588733 ... 1.0094881555654074  -0.010253069212612003\n",
       " 1749  710.2076397223308 ...  1.009405234143565  -0.010163880956952987\n",
       "  853 1594.8857237992956 ... 1.0082525783375027  -0.008923353183936453\n",
       " 1675 1644.8670784378226 ...  1.008180102935188  -0.008845305283788654\n",
       " 1734   1205.77287349402 ... 1.0078776737217017   -0.00851956228899596\n",
       " 2255  1636.574572814237 ... 1.0076915955579935  -0.008319091084253816\n",
       "  598 1688.4893984518246 ... 1.0050821946970125  -0.005503948529808222\n",
       "  498 1474.3676418144962 ...  1.001816274552496  -0.001970206362712949\n",
       "  892  587.2920092017025 ... 1.0003557225698212 -0.0003861521954500211"
      ]
     },
     "execution_count": 50,
     "metadata": {},
     "output_type": "execute_result"
    }
   ],
   "source": [
    "#***********\n",
    "srcs = find_stars(img_ngc7296_V_nosky, imgfile_ngc7296_V, sigma=bkg.background_rms_median, nsigma=5, \n",
    "                  verbose=True, overwrite=False)\n",
    "srcs"
   ]
  },
  {
   "cell_type": "markdown",
   "metadata": {},
   "source": [
    "<h3> Find the positions and RAs and Decs of the stars from Webda</h3>\n",
    "\n",
    "We will need to read in magnitudes from Webda and figure out which stars the belong to in our image.  Webda has separate tables for coordinates and magnitude they don't have the same number of objects and some tables have multiple entries for each object.  So first we need to combine the webda tables, and then we can combine them with our tables.\n",
    "\n",
    "<h4>Save the Webda info to text files</h4>\n",
    "You will need to find your cluster and go to the \"Coordinates J2000\" link under the \"Available Data\" link.  You should copy the contents of this page to an empty text file using your editor of choice.  The format should be that the first line starts with \"#\" (without the quotes) followed by the data.  Give it a name like \"radec_ngc7296.txt\" and put it either in your redpath or another directory.\n",
    "\n",
    "Do the same for the UBVCCD info but call it something like \"ubvccd_ngc7296.txt\". Also, make sure that there isn't an extra column name.  For example, some of the files have no U-B data but have a \"U-B\" column name.  Delete that column name if it exists.  \n",
    "\n",
    "The first few lines of my radec file look like this:\n",
    "<li>#  No    Ref   RA(2000)      Dec(2000)\n",
    "<li> 0001   385  22 28 05.35   +52 20 25.00\n",
    "<li> 0001   475  22 28 05.50   +52 20 22.40\n",
    "<li> 0002   385  22 28 01.53   +52 20 07.11\n",
    "\n",
    "Note that the first entry is a duplicate, with two locations from two different literature sources.  The following code will deal with that.\n",
    "\n",
    "This code reads in your two files and collates them into a single table"
   ]
  },
  {
   "cell_type": "code",
   "execution_count": 51,
   "metadata": {},
   "outputs": [],
   "source": [
    "from astropy.io import ascii\n",
    "filepath = '/Users/grudnick/Work/Teaching/Classes/Astro_596/Fall_2019/Observing_project/Cluster_files/NGC7926/'\n",
    "def webda_read(radecfile, magfile, filepath):\n",
    "    radecpath = os.path.join('{}'.format(filepath), radecfile)\n",
    "    magpath = os.path.join('{}'.format(filepath), magfile)\n",
    "    \n",
    "    mags = ascii.read(magpath)\n",
    "    \n",
    "    #convert the webda RA-DEC format into another"
   ]
  },
  {
   "cell_type": "markdown",
   "metadata": {},
   "source": [
    "<h3> Use stars from Pan-STARRS</h3>\n",
    "\n",
    "We will be using stars"
   ]
  },
  {
   "cell_type": "code",
   "execution_count": null,
   "metadata": {},
   "outputs": [],
   "source": [
    "def get_panstarrs_catalog(imgwcs, imgfile, radius=0.2, rfaint=17, region=False):\n",
    "    from astroquery.mast import Catalogs\n",
    "    ra0, dec0 = imgwcs.wcs.crval\n",
    "    print('Querying Pan-STARRS catalog with radius={:.3f} deg and central coordinates RA,Dec={:.5f},{:.5f}'.format(\n",
    "        radius, ra0, dec0))\n",
    "    if region:\n",
    "        allcat = Catalogs.query_region('{} {}'.format(ra0, dec0), radius=radius,\n",
    "                                       catalog='PANSTARRS', data_release='dr2', \n",
    "                                       table='mean')#, rMeanPSFMag=[12, 22])\n",
    "    else:\n",
    "        allcat = Catalogs.query_criteria(coordinates='{} {}'.format(ra0, dec0), radius=radius,\n",
    "                                         catalog='PANSTARRS', data_release='dr2', \n",
    "                                         table='mean',\n",
    "                                         columns=['objID', 'raMean', 'decMean',\n",
    "                                                  'gMeanPSFMag', 'rMeanPSFMag', 'iMeanPSFMag', 'zMeanPSFMag'],\n",
    "                                         gMeanPSFMag=[('lte', 18), ('gte', 12)],\n",
    "                                         rMeanPSFMag=[('lte', 18), ('gte', 12)],\n",
    "                                         iMeanPSFMag=[('lte', 18), ('gte', 12)],\n",
    "                                         zMeanPSFMag=[('lte', 18), ('gte', 12)],\n",
    "                                         sort_by=[(\"asc\", \"rMeanPSFMag\")])\n",
    "    \n",
    "    #rmag = allcat['rMeanPSFMag']\n",
    "    #good = np.isfinite(rmag) * rmag < rfaint\n",
    "    #cat = allcat[good]\n",
    "    #print('Keeping {}/{} Pan-STARRS sources.'.format(len(cat), len(allcat)))\n",
    "    return allcat"
   ]
  }
 ],
 "metadata": {
  "kernelspec": {
   "display_name": "Python 3",
   "language": "python",
   "name": "python3"
  },
  "language_info": {
   "codemirror_mode": {
    "name": "ipython",
    "version": 3
   },
   "file_extension": ".py",
   "mimetype": "text/x-python",
   "name": "python",
   "nbconvert_exporter": "python",
   "pygments_lexer": "ipython3",
   "version": "3.7.4"
  }
 },
 "nbformat": 4,
 "nbformat_minor": 2
}
